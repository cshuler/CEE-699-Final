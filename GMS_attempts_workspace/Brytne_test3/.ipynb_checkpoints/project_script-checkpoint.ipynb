{
 "cells": [
  {
   "cell_type": "code",
   "execution_count": 1,
   "metadata": {},
   "outputs": [
    {
     "name": "stdout",
     "output_type": "stream",
     "text": [
      "3.2.9\n"
     ]
    },
    {
     "ename": "FileNotFoundError",
     "evalue": "[Errno 2] No such file or directory: './Nuuanu_v2_take3_txt/Nuuanu_v2_take3.dis'",
     "output_type": "error",
     "traceback": [
      "\u001b[1;31m---------------------------------------------------------------------------\u001b[0m",
      "\u001b[1;31mFileNotFoundError\u001b[0m                         Traceback (most recent call last)",
      "\u001b[1;32m<ipython-input-1-a62990fe1570>\u001b[0m in \u001b[0;36m<module>\u001b[1;34m()\u001b[0m\n\u001b[0;32m     10\u001b[0m \u001b[1;33m\u001b[0m\u001b[0m\n\u001b[0;32m     11\u001b[0m \u001b[1;31m# DIS (discretization) file: spatial and temportal discretization / grid geometry\u001b[0m\u001b[1;33m\u001b[0m\u001b[1;33m\u001b[0m\u001b[0m\n\u001b[1;32m---> 12\u001b[1;33m \u001b[0mdis\u001b[0m \u001b[1;33m=\u001b[0m \u001b[0mflopy\u001b[0m\u001b[1;33m.\u001b[0m\u001b[0mmodflow\u001b[0m\u001b[1;33m.\u001b[0m\u001b[0mModflowDis\u001b[0m\u001b[1;33m.\u001b[0m\u001b[0mload\u001b[0m\u001b[1;33m(\u001b[0m\u001b[1;34m'./Nuuanu_v2_take3_txt/Nuuanu_v2_take3.dis'\u001b[0m\u001b[1;33m,\u001b[0m \u001b[0mmodel_name\u001b[0m\u001b[1;33m)\u001b[0m\u001b[1;33m\u001b[0m\u001b[0m\n\u001b[0m\u001b[0;32m     13\u001b[0m \u001b[1;31m# BAS (basic) file: cell type, initial and boundary counditions / ibounds and heads\u001b[0m\u001b[1;33m\u001b[0m\u001b[1;33m\u001b[0m\u001b[0m\n\u001b[0;32m     14\u001b[0m \u001b[0mbas\u001b[0m \u001b[1;33m=\u001b[0m \u001b[0mflopy\u001b[0m\u001b[1;33m.\u001b[0m\u001b[0mmodflow\u001b[0m\u001b[1;33m.\u001b[0m\u001b[0mModflowBas\u001b[0m\u001b[1;33m.\u001b[0m\u001b[0mload\u001b[0m\u001b[1;33m(\u001b[0m\u001b[1;34m'./Nuuanu_v2_take3_txt/Nuuanu_v2_take3.ba6'\u001b[0m\u001b[1;33m,\u001b[0m\u001b[0mmodel_name\u001b[0m\u001b[1;33m)\u001b[0m\u001b[1;33m\u001b[0m\u001b[0m\n",
      "\u001b[1;32m~\\AppData\\Local\\Continuum\\anaconda3\\lib\\site-packages\\flopy\\modflow\\mfdis.py\u001b[0m in \u001b[0;36mload\u001b[1;34m(f, model, ext_unit_dict, check)\u001b[0m\n\u001b[0;32m    822\u001b[0m         \u001b[1;32mif\u001b[0m \u001b[1;32mnot\u001b[0m \u001b[0mhasattr\u001b[0m\u001b[1;33m(\u001b[0m\u001b[0mf\u001b[0m\u001b[1;33m,\u001b[0m \u001b[1;34m'read'\u001b[0m\u001b[1;33m)\u001b[0m\u001b[1;33m:\u001b[0m\u001b[1;33m\u001b[0m\u001b[0m\n\u001b[0;32m    823\u001b[0m             \u001b[0mfilename\u001b[0m \u001b[1;33m=\u001b[0m \u001b[0mf\u001b[0m\u001b[1;33m\u001b[0m\u001b[0m\n\u001b[1;32m--> 824\u001b[1;33m             \u001b[0mf\u001b[0m \u001b[1;33m=\u001b[0m \u001b[0mopen\u001b[0m\u001b[1;33m(\u001b[0m\u001b[0mfilename\u001b[0m\u001b[1;33m,\u001b[0m \u001b[1;34m'r'\u001b[0m\u001b[1;33m)\u001b[0m\u001b[1;33m\u001b[0m\u001b[0m\n\u001b[0m\u001b[0;32m    825\u001b[0m         \u001b[1;31m# dataset 0 -- header\u001b[0m\u001b[1;33m\u001b[0m\u001b[1;33m\u001b[0m\u001b[0m\n\u001b[0;32m    826\u001b[0m         \u001b[0mheader\u001b[0m \u001b[1;33m=\u001b[0m \u001b[1;34m''\u001b[0m\u001b[1;33m\u001b[0m\u001b[0m\n",
      "\u001b[1;31mFileNotFoundError\u001b[0m: [Errno 2] No such file or directory: './Nuuanu_v2_take3_txt/Nuuanu_v2_take3.dis'"
     ]
    }
   ],
   "source": [
    "import numpy as np\n",
    "import flopy\n",
    "import matplotlib.pyplot as plt\n",
    "import flopy.utils.binaryfile as bf\n",
    "print(flopy.__version__)\n",
    "\n",
    "# Assign name and create modflow model object\n",
    "txtname = 'test2'\n",
    "model_name = flopy.modflow.Modflow(txtname, exe_name='./mf2005')\n",
    "\n",
    "# DIS (discretization) file: spatial and temportal discretization / grid geometry\n",
    "dis = flopy.modflow.ModflowDis.load('Nuuanu_v2_take3.dis', model_name)\n",
    "# BAS (basic) file: cell type, initial and boundary counditions / ibounds and heads\n",
    "bas = flopy.modflow.ModflowBas.load('Nuuanu_v2_take3.ba6',model_name)\n",
    "# LPF (layer property flow) file: performs cell by cell flow computation\n",
    "lpf = flopy.modflow.ModflowLpf.load('Nuuanu_v2_take3.lpf', model_name)\n",
    "# RCH (recharge) file\n",
    "rch = flopy.modflow.ModflowRch.load('Nuuanu_v2_take3.rch', model_name)\n",
    "# WEL (well) file: pumping and injection wells\n",
    "wel = flopy.modflow.ModflowWel.load('Nuuanu_v2_take3.wel', model_name)\n",
    "# PCG (preconditioned conjugate-gradient) file: solves finite difference equations\n",
    "pcg = flopy.modflow.ModflowPcg(model_name)\n",
    "# HOB (head observation): brings in the coordinates of the observation wells, but not the actual observed values\n",
    "hobs = flopy.modflow.ModflowHob.load('Nuuanu_v2_take3.hob',model_name)\n",
    "\n",
    "# Add OC (output control) package to the MODFLOW model\n",
    "# SPD is the stress period dictionary: used to set what output is saved for corresponding stress period and time step\n",
    "spd = {(0, 0): ['print head', 'print budget', 'save head', 'save budget']}  \n",
    "oc = flopy.modflow.ModflowOc(model_name, stress_period_data=spd, compact=True)\n",
    "\n",
    "# Write the MODFLOW model input files\n",
    "model_name.write_input()\n",
    "\n",
    "# Run the MODFLOW model\n",
    "success, buff = model_name.run_model()\n",
    "\n",
    "# Post process the results\n",
    "hds = bf.HeadFile(txtname + '.hds')\n",
    "head = hds.get_data(totim=1.0)\n",
    "levels = np.linspace(0, 10, 11)  # not sure about this\n",
    "\n",
    "fig = plt.figure(figsize=(10,10))\n",
    "ax = fig.add_subplot(1, 1, 1, aspect='equal')\n",
    "\n",
    "# this uses modelmap to plot boundary conditions, grid, head contours, vectors\n",
    "hds = bf.HeadFile(txtname + '.hds')\n",
    "times = hds.get_times()\n",
    "head = hds.get_data(totim=times[-1])\n",
    "levels = np.linspace(0, 10, 11)\n",
    "\n",
    "cbb = bf.CellBudgetFile(txtname + '.cbc')\n",
    "kstpkper_list = cbb.get_kstpkper()\n",
    "frf = cbb.get_data(text='FLOW RIGHT FACE', totim=times[-1])[0]\n",
    "fff = cbb.get_data(text='FLOW FRONT FACE', totim=times[-1])[0]\n",
    "\n",
    "modelmap = flopy.plot.ModelMap(model=model_name, layer=0)\n",
    "qm = modelmap.plot_ibound()\n",
    "lc = modelmap.plot_grid()\n",
    "cs = modelmap.contour_array(head, levels=levels)\n",
    "quiver = modelmap.plot_discharge(frf, fff, head=head)\n",
    "#plt.savefig('test2.png)\n",
    "\n",
    "modelmap = flopy.plot.ModelMap(model=model_name, layer=1) # default flopy plotting function\n",
    "\n",
    "# Plot well locations\n",
    "wel.plot()\n",
    "\n"
   ]
  },
  {
   "cell_type": "code",
   "execution_count": null,
   "metadata": {},
   "outputs": [],
   "source": []
  }
 ],
 "metadata": {
  "kernelspec": {
   "display_name": "Python 3",
   "language": "python",
   "name": "python3"
  },
  "language_info": {
   "codemirror_mode": {
    "name": "ipython",
    "version": 3
   },
   "file_extension": ".py",
   "mimetype": "text/x-python",
   "name": "python",
   "nbconvert_exporter": "python",
   "pygments_lexer": "ipython3",
   "version": "3.6.4"
  }
 },
 "nbformat": 4,
 "nbformat_minor": 2
}
